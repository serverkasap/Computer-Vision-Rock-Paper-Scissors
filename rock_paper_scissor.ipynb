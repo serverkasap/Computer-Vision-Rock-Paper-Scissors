{
 "cells": [
  {
   "cell_type": "code",
   "execution_count": null,
   "metadata": {},
   "outputs": [],
   "source": [
    "import cv2\n",
    "from keras.models import load_model\n",
    "import numpy as np\n",
    "\n",
    "model = load_model('keras_model.h5')\n",
    "\n",
    "cap = cv2.VideoCapture(0)\n",
    "data = np.ndarray(shape=(1, 224, 224, 3), dtype=np.float32)\n",
    "\n",
    "while True:\n",
    "    ret, frame = cap.read()\n",
    "    resized_frame = cv2.resize(frame, (224, 224), interpolation=cv2.INTER_AREA)\n",
    "    image_np = np.array(resized_frame)\n",
    "    normalized_image = (image_np.astype(np.float32) /\n",
    "                        127.0) - 1  # Normalize the image\n",
    "    data[0] = normalized_image\n",
    "    prediction = model.predict(data)\n",
    "\n",
    "    pred = [prediction[0][0],prediction[0][1],prediction[0][2],prediction[0][3]]\n",
    "\n",
    "    max_pred = pred.index(max(pred))\n",
    "\n",
    "\n",
    "    print(\"Rock: \",round(pred[0],2), end=' ')\n",
    "    print(\"Paper: \",round(pred[1],2), end=' ')\n",
    "    print(\"Scissor: \",round(pred[2],2), end=' ')\n",
    "    print(\"Nothing: \",round(pred[3],2), end=' => ')\n",
    "\n",
    "\n",
    "    if max_pred == 0:\n",
    "        print(\"Rock\")\n",
    "    elif max_pred == 1:\n",
    "        print(\"Paper\")\n",
    "    elif max_pred == 2:\n",
    "        print(\"Scissor\")\n",
    "    else:\n",
    "        print(\"Nothing\")\n",
    "\n",
    "    cv2.imshow('frame', frame)\n",
    "\n",
    "    # Press q to close the window\n",
    "    if cv2.waitKey(1) & 0xFF == ord('q'):\n",
    "        break\n",
    "\n",
    "# After the loop release the cap object\n",
    "cap.release()\n",
    "# Destroy all the windows\n",
    "cv2.destroyAllWindows()"
   ]
  }
 ],
 "metadata": {
  "interpreter": {
   "hash": "d49420a5178a9a84f9068ba967daccaf517b82fecdb11d2dc6576456a61a2d42"
  },
  "kernelspec": {
   "display_name": "Python 3.8.13 ('cv_env')",
   "language": "python",
   "name": "python3"
  },
  "language_info": {
   "codemirror_mode": {
    "name": "ipython",
    "version": 3
   },
   "file_extension": ".py",
   "mimetype": "text/x-python",
   "name": "python",
   "nbconvert_exporter": "python",
   "pygments_lexer": "ipython3",
   "version": "3.8.13"
  },
  "orig_nbformat": 4
 },
 "nbformat": 4,
 "nbformat_minor": 2
}
